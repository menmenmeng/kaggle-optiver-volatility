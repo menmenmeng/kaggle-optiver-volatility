{
 "cells": [
  {
   "cell_type": "code",
   "execution_count": 41,
   "metadata": {},
   "outputs": [],
   "source": [
    "import numpy as np\n",
    "import pandas as pd\n",
    "import matplotlib.pyplot as plt\n",
    "import seaborn as sns"
   ]
  },
  {
   "cell_type": "code",
   "execution_count": 42,
   "metadata": {},
   "outputs": [],
   "source": [
    "train = pd.read_csv('data/train.csv')\n",
    "test = pd.read_csv('data/test.csv')\n",
    "sample_submission = pd.read_csv('data/sample_submission.csv')"
   ]
  },
  {
   "cell_type": "code",
   "execution_count": 43,
   "metadata": {},
   "outputs": [
    {
     "data": {
      "text/html": [
       "<div>\n",
       "<style scoped>\n",
       "    .dataframe tbody tr th:only-of-type {\n",
       "        vertical-align: middle;\n",
       "    }\n",
       "\n",
       "    .dataframe tbody tr th {\n",
       "        vertical-align: top;\n",
       "    }\n",
       "\n",
       "    .dataframe thead th {\n",
       "        text-align: right;\n",
       "    }\n",
       "</style>\n",
       "<table border=\"1\" class=\"dataframe\">\n",
       "  <thead>\n",
       "    <tr style=\"text-align: right;\">\n",
       "      <th></th>\n",
       "      <th>realized_volatility</th>\n",
       "      <th>seconds_count</th>\n",
       "      <th>seconds_right_skew</th>\n",
       "      <th>seconds_skewness</th>\n",
       "      <th>seconds_kurtosis</th>\n",
       "      <th>wap_skewness</th>\n",
       "      <th>wap_kurtosis</th>\n",
       "      <th>bid_size1_skewness</th>\n",
       "      <th>bid_size1_max</th>\n",
       "      <th>bid_size1_mean</th>\n",
       "      <th>ask_size1_skewness</th>\n",
       "      <th>ask_size1_max</th>\n",
       "      <th>ask_size1_mean</th>\n",
       "      <th>bid_size2_skewness</th>\n",
       "      <th>ask_size2_skewness</th>\n",
       "      <th>row_id</th>\n",
       "      <th>size_max</th>\n",
       "      <th>size_sum</th>\n",
       "      <th>order_count_max</th>\n",
       "      <th>target</th>\n",
       "    </tr>\n",
       "  </thead>\n",
       "  <tbody>\n",
       "    <tr>\n",
       "      <th>0</th>\n",
       "      <td>0.004106</td>\n",
       "      <td>302.0</td>\n",
       "      <td>152.841727</td>\n",
       "      <td>0.510418</td>\n",
       "      <td>-1.181185</td>\n",
       "      <td>-0.729681</td>\n",
       "      <td>3.300160</td>\n",
       "      <td>-0.803095</td>\n",
       "      <td>500.0</td>\n",
       "      <td>78.264901</td>\n",
       "      <td>-0.246879</td>\n",
       "      <td>228.0</td>\n",
       "      <td>74.579470</td>\n",
       "      <td>-0.669089</td>\n",
       "      <td>-0.426180</td>\n",
       "      <td>0-5</td>\n",
       "      <td>499.0</td>\n",
       "      <td>3179.0</td>\n",
       "      <td>12.0</td>\n",
       "      <td>0.004136</td>\n",
       "    </tr>\n",
       "    <tr>\n",
       "      <th>1</th>\n",
       "      <td>0.001507</td>\n",
       "      <td>200.0</td>\n",
       "      <td>147.965217</td>\n",
       "      <td>-0.362378</td>\n",
       "      <td>-1.001272</td>\n",
       "      <td>-0.053591</td>\n",
       "      <td>0.563174</td>\n",
       "      <td>0.288387</td>\n",
       "      <td>402.0</td>\n",
       "      <td>149.965000</td>\n",
       "      <td>1.345276</td>\n",
       "      <td>400.0</td>\n",
       "      <td>71.145000</td>\n",
       "      <td>1.269870</td>\n",
       "      <td>-0.172575</td>\n",
       "      <td>0-11</td>\n",
       "      <td>280.0</td>\n",
       "      <td>1289.0</td>\n",
       "      <td>6.0</td>\n",
       "      <td>0.001445</td>\n",
       "    </tr>\n",
       "    <tr>\n",
       "      <th>2</th>\n",
       "      <td>0.002468</td>\n",
       "      <td>188.0</td>\n",
       "      <td>159.897059</td>\n",
       "      <td>0.506732</td>\n",
       "      <td>-1.216982</td>\n",
       "      <td>-0.934322</td>\n",
       "      <td>0.324836</td>\n",
       "      <td>-0.164424</td>\n",
       "      <td>304.0</td>\n",
       "      <td>96.132979</td>\n",
       "      <td>1.279381</td>\n",
       "      <td>449.0</td>\n",
       "      <td>131.037234</td>\n",
       "      <td>0.538682</td>\n",
       "      <td>-1.122790</td>\n",
       "      <td>0-16</td>\n",
       "      <td>391.0</td>\n",
       "      <td>2161.0</td>\n",
       "      <td>8.0</td>\n",
       "      <td>0.002168</td>\n",
       "    </tr>\n",
       "    <tr>\n",
       "      <th>3</th>\n",
       "      <td>0.002708</td>\n",
       "      <td>120.0</td>\n",
       "      <td>120.509434</td>\n",
       "      <td>-0.032548</td>\n",
       "      <td>-1.013334</td>\n",
       "      <td>0.792628</td>\n",
       "      <td>0.111513</td>\n",
       "      <td>0.448781</td>\n",
       "      <td>370.0</td>\n",
       "      <td>114.458333</td>\n",
       "      <td>0.480632</td>\n",
       "      <td>400.0</td>\n",
       "      <td>120.800000</td>\n",
       "      <td>1.293843</td>\n",
       "      <td>0.790816</td>\n",
       "      <td>0-31</td>\n",
       "      <td>450.0</td>\n",
       "      <td>1962.0</td>\n",
       "      <td>15.0</td>\n",
       "      <td>0.002195</td>\n",
       "    </tr>\n",
       "    <tr>\n",
       "      <th>4</th>\n",
       "      <td>0.001932</td>\n",
       "      <td>176.0</td>\n",
       "      <td>131.988764</td>\n",
       "      <td>-0.402382</td>\n",
       "      <td>-1.151718</td>\n",
       "      <td>0.168761</td>\n",
       "      <td>-1.067718</td>\n",
       "      <td>0.579404</td>\n",
       "      <td>402.0</td>\n",
       "      <td>119.823864</td>\n",
       "      <td>0.121758</td>\n",
       "      <td>333.0</td>\n",
       "      <td>88.477273</td>\n",
       "      <td>-0.434153</td>\n",
       "      <td>1.519461</td>\n",
       "      <td>0-62</td>\n",
       "      <td>341.0</td>\n",
       "      <td>1791.0</td>\n",
       "      <td>17.0</td>\n",
       "      <td>0.001747</td>\n",
       "    </tr>\n",
       "  </tbody>\n",
       "</table>\n",
       "</div>"
      ],
      "text/plain": [
       "   realized_volatility  seconds_count  seconds_right_skew  seconds_skewness  \\\n",
       "0             0.004106          302.0          152.841727          0.510418   \n",
       "1             0.001507          200.0          147.965217         -0.362378   \n",
       "2             0.002468          188.0          159.897059          0.506732   \n",
       "3             0.002708          120.0          120.509434         -0.032548   \n",
       "4             0.001932          176.0          131.988764         -0.402382   \n",
       "\n",
       "   seconds_kurtosis  wap_skewness  wap_kurtosis  bid_size1_skewness  \\\n",
       "0         -1.181185     -0.729681      3.300160           -0.803095   \n",
       "1         -1.001272     -0.053591      0.563174            0.288387   \n",
       "2         -1.216982     -0.934322      0.324836           -0.164424   \n",
       "3         -1.013334      0.792628      0.111513            0.448781   \n",
       "4         -1.151718      0.168761     -1.067718            0.579404   \n",
       "\n",
       "   bid_size1_max  bid_size1_mean  ask_size1_skewness  ask_size1_max  \\\n",
       "0          500.0       78.264901           -0.246879          228.0   \n",
       "1          402.0      149.965000            1.345276          400.0   \n",
       "2          304.0       96.132979            1.279381          449.0   \n",
       "3          370.0      114.458333            0.480632          400.0   \n",
       "4          402.0      119.823864            0.121758          333.0   \n",
       "\n",
       "   ask_size1_mean  bid_size2_skewness  ask_size2_skewness row_id  size_max  \\\n",
       "0       74.579470           -0.669089           -0.426180    0-5     499.0   \n",
       "1       71.145000            1.269870           -0.172575   0-11     280.0   \n",
       "2      131.037234            0.538682           -1.122790   0-16     391.0   \n",
       "3      120.800000            1.293843            0.790816   0-31     450.0   \n",
       "4       88.477273           -0.434153            1.519461   0-62     341.0   \n",
       "\n",
       "   size_sum  order_count_max    target  \n",
       "0    3179.0             12.0  0.004136  \n",
       "1    1289.0              6.0  0.001445  \n",
       "2    2161.0              8.0  0.002168  \n",
       "3    1962.0             15.0  0.002195  \n",
       "4    1791.0             17.0  0.001747  "
      ]
     },
     "execution_count": 43,
     "metadata": {},
     "output_type": "execute_result"
    }
   ],
   "source": [
    "df = pd.read_csv('data/preprocessed_0813.csv')\n",
    "df.head()"
   ]
  },
  {
   "cell_type": "code",
   "execution_count": 44,
   "metadata": {},
   "outputs": [
    {
     "data": {
      "text/plain": [
       "<matplotlib.axes._subplots.AxesSubplot at 0x21c8e02e2e8>"
      ]
     },
     "execution_count": 44,
     "metadata": {},
     "output_type": "execute_result"
    },
    {
     "data": {
      "image/png": "[encoded data removed]",
      "text/plain": [
       "<Figure size 432x288 with 1 Axes>"
      ]
     },
     "metadata": {
      "needs_background": "light"
     },
     "output_type": "display_data"
    }
   ],
   "source": [
    "sns.distplot(df.target, rug = True, kde = True)"
   ]
  },
  {
   "cell_type": "markdown",
   "metadata": {},
   "source": [
    "#### 1. feature PCA\n",
    "#### 2. target log transform"
   ]
  },
  {
   "cell_type": "code",
   "execution_count": 16,
   "metadata": {},
   "outputs": [],
   "source": [
    "# 1. PCA to features\n",
    "# 1-1. Standard Scaling : after drop outliers\n",
    "\n",
    "from sklearn.preprocessing import StandardScaler\n",
    "\n",
    "stdsc = StandardScaler()\n",
    "X_scaled_arr = stdsc.fit_transform(df.drop(['row_id','target'], axis=1))"
   ]
  },
  {
   "cell_type": "code",
   "execution_count": 17,
   "metadata": {},
   "outputs": [],
   "source": [
    "X_scaled = pd.DataFrame(X_scaled_arr, columns = df.drop(['row_id','target'], axis=1).columns)"
   ]
  },
  {
   "cell_type": "code",
   "execution_count": 18,
   "metadata": {},
   "outputs": [
    {
     "data": {
      "text/html": [
       "<div>\n",
       "<style scoped>\n",
       "    .dataframe tbody tr th:only-of-type {\n",
       "        vertical-align: middle;\n",
       "    }\n",
       "\n",
       "    .dataframe tbody tr th {\n",
       "        vertical-align: top;\n",
       "    }\n",
       "\n",
       "    .dataframe thead th {\n",
       "        text-align: right;\n",
       "    }\n",
       "</style>\n",
       "<table border=\"1\" class=\"dataframe\">\n",
       "  <thead>\n",
       "    <tr style=\"text-align: right;\">\n",
       "      <th></th>\n",
       "      <th>realized_volatility</th>\n",
       "      <th>seconds_count</th>\n",
       "      <th>seconds_right_skew</th>\n",
       "      <th>seconds_skewness</th>\n",
       "      <th>seconds_kurtosis</th>\n",
       "      <th>wap_skewness</th>\n",
       "      <th>wap_kurtosis</th>\n",
       "      <th>bid_size1_skewness</th>\n",
       "      <th>bid_size1_max</th>\n",
       "      <th>bid_size1_mean</th>\n",
       "      <th>ask_size1_skewness</th>\n",
       "      <th>ask_size1_max</th>\n",
       "      <th>ask_size1_mean</th>\n",
       "      <th>bid_size2_skewness</th>\n",
       "      <th>ask_size2_skewness</th>\n",
       "      <th>size_max</th>\n",
       "      <th>size_sum</th>\n",
       "      <th>order_count_max</th>\n",
       "    </tr>\n",
       "  </thead>\n",
       "  <tbody>\n",
       "    <tr>\n",
       "      <th>0</th>\n",
       "      <td>-0.001701</td>\n",
       "      <td>-0.647334</td>\n",
       "      <td>0.460596</td>\n",
       "      <td>2.252025</td>\n",
       "      <td>0.028740</td>\n",
       "      <td>-1.148249</td>\n",
       "      <td>3.539690</td>\n",
       "      <td>-1.925638</td>\n",
       "      <td>-0.184833</td>\n",
       "      <td>-0.141687</td>\n",
       "      <td>-1.126982</td>\n",
       "      <td>-0.227038</td>\n",
       "      <td>-0.150889</td>\n",
       "      <td>-1.664002</td>\n",
       "      <td>-1.332039</td>\n",
       "      <td>-0.309631</td>\n",
       "      <td>-0.408220</td>\n",
       "      <td>-0.280835</td>\n",
       "    </tr>\n",
       "    <tr>\n",
       "      <th>1</th>\n",
       "      <td>-0.781394</td>\n",
       "      <td>-1.398253</td>\n",
       "      <td>-0.088261</td>\n",
       "      <td>-1.768817</td>\n",
       "      <td>1.808186</td>\n",
       "      <td>-0.074847</td>\n",
       "      <td>0.973483</td>\n",
       "      <td>-0.367606</td>\n",
       "      <td>-0.194079</td>\n",
       "      <td>-0.126933</td>\n",
       "      <td>1.143241</td>\n",
       "      <td>-0.209846</td>\n",
       "      <td>-0.151642</td>\n",
       "      <td>0.902521</td>\n",
       "      <td>-0.998849</td>\n",
       "      <td>-0.336367</td>\n",
       "      <td>-0.435121</td>\n",
       "      <td>-0.399110</td>\n",
       "    </tr>\n",
       "    <tr>\n",
       "      <th>2</th>\n",
       "      <td>-0.492999</td>\n",
       "      <td>-1.486596</td>\n",
       "      <td>1.254682</td>\n",
       "      <td>2.235042</td>\n",
       "      <td>-0.325309</td>\n",
       "      <td>-1.473149</td>\n",
       "      <td>0.750016</td>\n",
       "      <td>-1.013969</td>\n",
       "      <td>-0.203325</td>\n",
       "      <td>-0.138010</td>\n",
       "      <td>1.049283</td>\n",
       "      <td>-0.204948</td>\n",
       "      <td>-0.138520</td>\n",
       "      <td>-0.065324</td>\n",
       "      <td>-2.247255</td>\n",
       "      <td>-0.322816</td>\n",
       "      <td>-0.422710</td>\n",
       "      <td>-0.359685</td>\n",
       "    </tr>\n",
       "    <tr>\n",
       "      <th>3</th>\n",
       "      <td>-0.420982</td>\n",
       "      <td>-1.987209</td>\n",
       "      <td>-3.178443</td>\n",
       "      <td>-0.249338</td>\n",
       "      <td>1.688880</td>\n",
       "      <td>1.268663</td>\n",
       "      <td>0.550004</td>\n",
       "      <td>-0.138653</td>\n",
       "      <td>-0.197098</td>\n",
       "      <td>-0.134239</td>\n",
       "      <td>-0.089638</td>\n",
       "      <td>-0.209846</td>\n",
       "      <td>-0.140763</td>\n",
       "      <td>0.934253</td>\n",
       "      <td>0.266866</td>\n",
       "      <td>-0.315613</td>\n",
       "      <td>-0.425542</td>\n",
       "      <td>-0.221697</td>\n",
       "    </tr>\n",
       "    <tr>\n",
       "      <th>4</th>\n",
       "      <td>-0.653861</td>\n",
       "      <td>-1.574940</td>\n",
       "      <td>-1.886431</td>\n",
       "      <td>-1.953109</td>\n",
       "      <td>0.320185</td>\n",
       "      <td>0.278173</td>\n",
       "      <td>-0.555646</td>\n",
       "      <td>0.047805</td>\n",
       "      <td>-0.194079</td>\n",
       "      <td>-0.133135</td>\n",
       "      <td>-0.601349</td>\n",
       "      <td>-0.216543</td>\n",
       "      <td>-0.147844</td>\n",
       "      <td>-1.353026</td>\n",
       "      <td>1.224169</td>\n",
       "      <td>-0.328920</td>\n",
       "      <td>-0.427976</td>\n",
       "      <td>-0.182272</td>\n",
       "    </tr>\n",
       "  </tbody>\n",
       "</table>\n",
       "</div>"
      ],
      "text/plain": [
       "   realized_volatility  seconds_count  seconds_right_skew  seconds_skewness  \\\n",
       "0            -0.001701      -0.647334            0.460596          2.252025   \n",
       "1            -0.781394      -1.398253           -0.088261         -1.768817   \n",
       "2            -0.492999      -1.486596            1.254682          2.235042   \n",
       "3            -0.420982      -1.987209           -3.178443         -0.249338   \n",
       "4            -0.653861      -1.574940           -1.886431         -1.953109   \n",
       "\n",
       "   seconds_kurtosis  wap_skewness  wap_kurtosis  bid_size1_skewness  \\\n",
       "0          0.028740     -1.148249      3.539690           -1.925638   \n",
       "1          1.808186     -0.074847      0.973483           -0.367606   \n",
       "2         -0.325309     -1.473149      0.750016           -1.013969   \n",
       "3          1.688880      1.268663      0.550004           -0.138653   \n",
       "4          0.320185      0.278173     -0.555646            0.047805   \n",
       "\n",
       "   bid_size1_max  bid_size1_mean  ask_size1_skewness  ask_size1_max  \\\n",
       "0      -0.184833       -0.141687           -1.126982      -0.227038   \n",
       "1      -0.194079       -0.126933            1.143241      -0.209846   \n",
       "2      -0.203325       -0.138010            1.049283      -0.204948   \n",
       "3      -0.197098       -0.134239           -0.089638      -0.209846   \n",
       "4      -0.194079       -0.133135           -0.601349      -0.216543   \n",
       "\n",
       "   ask_size1_mean  bid_size2_skewness  ask_size2_skewness  size_max  size_sum  \\\n",
       "0       -0.150889           -1.664002           -1.332039 -0.309631 -0.408220   \n",
       "1       -0.151642            0.902521           -0.998849 -0.336367 -0.435121   \n",
       "2       -0.138520           -0.065324           -2.247255 -0.322816 -0.422710   \n",
       "3       -0.140763            0.934253            0.266866 -0.315613 -0.425542   \n",
       "4       -0.147844           -1.353026            1.224169 -0.328920 -0.427976   \n",
       "\n",
       "   order_count_max  \n",
       "0        -0.280835  \n",
       "1        -0.399110  \n",
       "2        -0.359685  \n",
       "3        -0.221697  \n",
       "4        -0.182272  "
      ]
     },
     "execution_count": 18,
     "metadata": {},
     "output_type": "execute_result"
    }
   ],
   "source": [
    "X_scaled.head()"
   ]
  },
  {
   "cell_type": "code",
   "execution_count": 21,
   "metadata": {},
   "outputs": [
    {
     "data": {
      "image/png": "[encoded data removed]",
      "text/plain": [
       "<Figure size 432x288 with 1 Axes>"
      ]
     },
     "metadata": {
      "needs_background": "light"
     },
     "output_type": "display_data"
    },
    {
     "data": {
      "image/png": "[encoded data removed]",
      "text/plain": [
       "<Figure size 432x288 with 1 Axes>"
      ]
     },
     "metadata": {
      "needs_background": "light"
     },
     "output_type": "display_data"
    },
    {
     "data": {
      "image/png": "[encoded data removed]",
      "text/plain": [
       "<Figure size 432x288 with 1 Axes>"
      ]
     },
     "metadata": {
      "needs_background": "light"
     },
     "output_type": "display_data"
    },
    {
     "data": {
      "image/png": "[encoded data removed]",
      "text/plain": [
       "<Figure size 432x288 with 1 Axes>"
      ]
     },
     "metadata": {
      "needs_background": "light"
     },
     "output_type": "display_data"
    },
    {
     "data": {
      "image/png": "[encoded data removed]",
      "text/plain": [
       "<Figure size 432x288 with 1 Axes>"
      ]
     },
     "metadata": {
      "needs_background": "light"
     },
     "output_type": "display_data"
    },
    {
     "data": {
      "image/png": "[encoded data removed]",
      "text/plain": [
       "<Figure size 432x288 with 1 Axes>"
      ]
     },
     "metadata": {
      "needs_background": "light"
     },
     "output_type": "display_data"
    },
    {
     "data": {
      "image/png": "[encoded data removed]",
      "text/plain": [
       "<Figure size 432x288 with 1 Axes>"
      ]
     },
     "metadata": {
      "needs_background": "light"
     },
     "output_type": "display_data"
    },
    {
     "data": {
      "image/png": "[encoded data removed]",
      "text/plain": [
       "<Figure size 432x288 with 1 Axes>"
      ]
     },
     "metadata": {
      "needs_background": "light"
     },
     "output_type": "display_data"
    },
    {
     "data": {
      "image/png": "[encoded data removed]",
      "text/plain": [
       "<Figure size 432x288 with 1 Axes>"
      ]
     },
     "metadata": {
      "needs_background": "light"
     },
     "output_type": "display_data"
    },
    {
     "data": {
      "image/png": "[encoded data removed]",
      "text/plain": [
       "<Figure size 432x288 with 1 Axes>"
      ]
     },
     "metadata": {
      "needs_background": "light"
     },
     "output_type": "display_data"
    },
    {
     "data": {
      "image/png": "[encoded data removed]",
      "text/plain": [
       "<Figure size 432x288 with 1 Axes>"
      ]
     },
     "metadata": {
      "needs_background": "light"
     },
     "output_type": "display_data"
    },
    {
     "data": {
      "image/png": "[encoded data removed]",
      "text/plain": [
       "<Figure size 432x288 with 1 Axes>"
      ]
     },
     "metadata": {
      "needs_background": "light"
     },
     "output_type": "display_data"
    },
    {
     "data": {
      "image/png": "[encoded data removed]",
      "text/plain": [
       "<Figure size 432x288 with 1 Axes>"
      ]
     },
     "metadata": {
      "needs_background": "light"
     },
     "output_type": "display_data"
    },
    {
     "data": {
      "image/png": "[encoded data removed]",
      "text/plain": [
       "<Figure size 432x288 with 1 Axes>"
      ]
     },
     "metadata": {
      "needs_background": "light"
     },
     "output_type": "display_data"
    },
    {
     "data": {
      "image/png": "[encoded data removed]",
      "text/plain": [
       "<Figure size 432x288 with 1 Axes>"
      ]
     },
     "metadata": {
      "needs_background": "light"
     },
     "output_type": "display_data"
    },
    {
     "data": {
      "image/png": "[encoded data removed]",
      "text/plain": [
       "<Figure size 432x288 with 1 Axes>"
      ]
     },
     "metadata": {
      "needs_background": "light"
     },
     "output_type": "display_data"
    },
    {
     "data": {
      "image/png": "[encoded data removed]",
      "text/plain": [
       "<Figure size 432x288 with 1 Axes>"
      ]
     },
     "metadata": {
      "needs_background": "light"
     },
     "output_type": "display_data"
    },
    {
     "data": {
      "image/png": "[encoded data removed]",
      "text/plain": [
       "<Figure size 432x288 with 1 Axes>"
      ]
     },
     "metadata": {
      "needs_background": "light"
     },
     "output_type": "display_data"
    }
   ],
   "source": [
    "for col in X_scaled.columns :\n",
    "    sns.distplot(X_scaled[col], rug = True)\n",
    "    plt.show()"
   ]
  },
  {
   "cell_type": "code",
   "execution_count": 22,
   "metadata": {},
   "outputs": [],
   "source": [
    "# realized volatility가 20이상\n",
    "# seconds kurtosis 가 30이상\n",
    "# wap kurtosis가 200이상\n",
    "# bid_size1_max 가 100이상\n",
    "# bid_size1_mean 이 140이상\n",
    "# ask_size1_max 가 50이상\n",
    "# ask_size1_mean 이 50이상\n",
    "# size_max 가 80이상\n",
    "# size_sum이 50이상\n",
    "# 인 index들을 X_scaled에서 골라서, index를 저장하고\n",
    "# df에서 이 index들만 제거한 다음 다시 standardscaling하기"
   ]
  },
  {
   "cell_type": "code",
   "execution_count": 23,
   "metadata": {},
   "outputs": [],
   "source": [
    "drop_indexes = X_scaled[(X_scaled.realized_volatility>=20) |\n",
    "         (X_scaled.seconds_kurtosis>=30) |\n",
    "         (X_scaled.wap_kurtosis>=200) |\n",
    "         (X_scaled.bid_size1_max>=100) |\n",
    "         (X_scaled.bid_size1_mean>=140) |\n",
    "         (X_scaled.ask_size1_max>=50) |\n",
    "         (X_scaled.ask_size1_mean>=50) |\n",
    "         (X_scaled.size_max>=80) |\n",
    "         (X_scaled.size_sum>=50)].index"
   ]
  },
  {
   "cell_type": "code",
   "execution_count": 25,
   "metadata": {},
   "outputs": [],
   "source": [
    "drop_ol_df = df.drop(drop_indexes, axis=0)"
   ]
  },
  {
   "cell_type": "code",
   "execution_count": 26,
   "metadata": {},
   "outputs": [
    {
     "data": {
      "text/html": [
       "<div>\n",
       "<style scoped>\n",
       "    .dataframe tbody tr th:only-of-type {\n",
       "        vertical-align: middle;\n",
       "    }\n",
       "\n",
       "    .dataframe tbody tr th {\n",
       "        vertical-align: top;\n",
       "    }\n",
       "\n",
       "    .dataframe thead th {\n",
       "        text-align: right;\n",
       "    }\n",
       "</style>\n",
       "<table border=\"1\" class=\"dataframe\">\n",
       "  <thead>\n",
       "    <tr style=\"text-align: right;\">\n",
       "      <th></th>\n",
       "      <th>realized_volatility</th>\n",
       "      <th>seconds_count</th>\n",
       "      <th>seconds_right_skew</th>\n",
       "      <th>seconds_skewness</th>\n",
       "      <th>seconds_kurtosis</th>\n",
       "      <th>wap_skewness</th>\n",
       "      <th>wap_kurtosis</th>\n",
       "      <th>bid_size1_skewness</th>\n",
       "      <th>bid_size1_max</th>\n",
       "      <th>bid_size1_mean</th>\n",
       "      <th>ask_size1_skewness</th>\n",
       "      <th>ask_size1_max</th>\n",
       "      <th>ask_size1_mean</th>\n",
       "      <th>bid_size2_skewness</th>\n",
       "      <th>ask_size2_skewness</th>\n",
       "      <th>size_max</th>\n",
       "      <th>size_sum</th>\n",
       "      <th>order_count_max</th>\n",
       "    </tr>\n",
       "  </thead>\n",
       "  <tbody>\n",
       "    <tr>\n",
       "      <th>0</th>\n",
       "      <td>-0.001640</td>\n",
       "      <td>-0.647336</td>\n",
       "      <td>0.460596</td>\n",
       "      <td>2.252070</td>\n",
       "      <td>0.029016</td>\n",
       "      <td>-1.148260</td>\n",
       "      <td>3.790673</td>\n",
       "      <td>-1.925666</td>\n",
       "      <td>-0.187873</td>\n",
       "      <td>-0.145574</td>\n",
       "      <td>-1.127000</td>\n",
       "      <td>-0.229067</td>\n",
       "      <td>-0.151285</td>\n",
       "      <td>-1.664061</td>\n",
       "      <td>-1.332065</td>\n",
       "      <td>-0.313497</td>\n",
       "      <td>-0.409864</td>\n",
       "      <td>-0.280832</td>\n",
       "    </tr>\n",
       "    <tr>\n",
       "      <th>1</th>\n",
       "      <td>-0.781776</td>\n",
       "      <td>-1.398262</td>\n",
       "      <td>-0.088256</td>\n",
       "      <td>-1.768885</td>\n",
       "      <td>1.814573</td>\n",
       "      <td>-0.074846</td>\n",
       "      <td>1.042963</td>\n",
       "      <td>-0.367614</td>\n",
       "      <td>-0.197296</td>\n",
       "      <td>-0.130359</td>\n",
       "      <td>1.143245</td>\n",
       "      <td>-0.211686</td>\n",
       "      <td>-0.152041</td>\n",
       "      <td>0.902527</td>\n",
       "      <td>-0.998870</td>\n",
       "      <td>-0.340608</td>\n",
       "      <td>-0.436889</td>\n",
       "      <td>-0.399124</td>\n",
       "    </tr>\n",
       "    <tr>\n",
       "      <th>2</th>\n",
       "      <td>-0.493217</td>\n",
       "      <td>-1.486606</td>\n",
       "      <td>1.254675</td>\n",
       "      <td>2.235087</td>\n",
       "      <td>-0.326250</td>\n",
       "      <td>-1.473165</td>\n",
       "      <td>0.803690</td>\n",
       "      <td>-1.013986</td>\n",
       "      <td>-0.206718</td>\n",
       "      <td>-0.141782</td>\n",
       "      <td>1.049285</td>\n",
       "      <td>-0.206735</td>\n",
       "      <td>-0.138858</td>\n",
       "      <td>-0.065343</td>\n",
       "      <td>-2.247293</td>\n",
       "      <td>-0.326867</td>\n",
       "      <td>-0.424420</td>\n",
       "      <td>-0.359694</td>\n",
       "    </tr>\n",
       "    <tr>\n",
       "      <th>3</th>\n",
       "      <td>-0.421160</td>\n",
       "      <td>-1.987224</td>\n",
       "      <td>-3.178410</td>\n",
       "      <td>-0.249363</td>\n",
       "      <td>1.694857</td>\n",
       "      <td>1.268680</td>\n",
       "      <td>0.589532</td>\n",
       "      <td>-0.138658</td>\n",
       "      <td>-0.200372</td>\n",
       "      <td>-0.137894</td>\n",
       "      <td>-0.089646</td>\n",
       "      <td>-0.211686</td>\n",
       "      <td>-0.141112</td>\n",
       "      <td>0.934259</td>\n",
       "      <td>0.266863</td>\n",
       "      <td>-0.319563</td>\n",
       "      <td>-0.427266</td>\n",
       "      <td>-0.221685</td>\n",
       "    </tr>\n",
       "    <tr>\n",
       "      <th>4</th>\n",
       "      <td>-0.654171</td>\n",
       "      <td>-1.574951</td>\n",
       "      <td>-1.886409</td>\n",
       "      <td>-1.953181</td>\n",
       "      <td>0.321462</td>\n",
       "      <td>0.278178</td>\n",
       "      <td>-0.594320</td>\n",
       "      <td>0.047803</td>\n",
       "      <td>-0.197296</td>\n",
       "      <td>-0.136755</td>\n",
       "      <td>-0.601362</td>\n",
       "      <td>-0.218456</td>\n",
       "      <td>-0.148226</td>\n",
       "      <td>-1.353078</td>\n",
       "      <td>1.224181</td>\n",
       "      <td>-0.333057</td>\n",
       "      <td>-0.429711</td>\n",
       "      <td>-0.182254</td>\n",
       "    </tr>\n",
       "  </tbody>\n",
       "</table>\n",
       "</div>"
      ],
      "text/plain": [
       "   realized_volatility  seconds_count  seconds_right_skew  seconds_skewness  \\\n",
       "0            -0.001640      -0.647336            0.460596          2.252070   \n",
       "1            -0.781776      -1.398262           -0.088256         -1.768885   \n",
       "2            -0.493217      -1.486606            1.254675          2.235087   \n",
       "3            -0.421160      -1.987224           -3.178410         -0.249363   \n",
       "4            -0.654171      -1.574951           -1.886409         -1.953181   \n",
       "\n",
       "   seconds_kurtosis  wap_skewness  wap_kurtosis  bid_size1_skewness  \\\n",
       "0          0.029016     -1.148260      3.790673           -1.925666   \n",
       "1          1.814573     -0.074846      1.042963           -0.367614   \n",
       "2         -0.326250     -1.473165      0.803690           -1.013986   \n",
       "3          1.694857      1.268680      0.589532           -0.138658   \n",
       "4          0.321462      0.278178     -0.594320            0.047803   \n",
       "\n",
       "   bid_size1_max  bid_size1_mean  ask_size1_skewness  ask_size1_max  \\\n",
       "0      -0.187873       -0.145574           -1.127000      -0.229067   \n",
       "1      -0.197296       -0.130359            1.143245      -0.211686   \n",
       "2      -0.206718       -0.141782            1.049285      -0.206735   \n",
       "3      -0.200372       -0.137894           -0.089646      -0.211686   \n",
       "4      -0.197296       -0.136755           -0.601362      -0.218456   \n",
       "\n",
       "   ask_size1_mean  bid_size2_skewness  ask_size2_skewness  size_max  size_sum  \\\n",
       "0       -0.151285           -1.664061           -1.332065 -0.313497 -0.409864   \n",
       "1       -0.152041            0.902527           -0.998870 -0.340608 -0.436889   \n",
       "2       -0.138858           -0.065343           -2.247293 -0.326867 -0.424420   \n",
       "3       -0.141112            0.934259            0.266863 -0.319563 -0.427266   \n",
       "4       -0.148226           -1.353078            1.224181 -0.333057 -0.429711   \n",
       "\n",
       "   order_count_max  \n",
       "0        -0.280832  \n",
       "1        -0.399124  \n",
       "2        -0.359694  \n",
       "3        -0.221685  \n",
       "4        -0.182254  "
      ]
     },
     "execution_count": 26,
     "metadata": {},
     "output_type": "execute_result"
    }
   ],
   "source": [
    "stdsc2 = StandardScaler()\n",
    "X_scaled_arr2 = stdsc2.fit_transform(drop_ol_df.drop(['row_id','target'], axis=1))\n",
    "X_scaled = pd.DataFrame(X_scaled_arr2, columns = drop_ol_df.drop(['row_id','target'], axis=1).columns)\n",
    "X_scaled.head()"
   ]
  },
  {
   "cell_type": "code",
   "execution_count": 31,
   "metadata": {},
   "outputs": [
    {
     "name": "stdout",
     "output_type": "stream",
     "text": [
      "num : 1 ['PC_1']\n",
      "num : 2 ['PC_1', 'PC_2']\n",
      "num : 3 ['PC_1', 'PC_2', 'PC_3']\n",
      "num : 4 ['PC_1', 'PC_2', 'PC_3', 'PC_4']\n",
      "num : 5 ['PC_1', 'PC_2', 'PC_3', 'PC_4', 'PC_5']\n",
      "num : 6 ['PC_1', 'PC_2', 'PC_3', 'PC_4', 'PC_5', 'PC_6']\n"
     ]
    }
   ],
   "source": [
    "for i in range(1, 7):\n",
    "    cols= [str('PC_{}'.format(k)) for k in range(1, i+1)]\n",
    "    print('num :', i, cols)"
   ]
  },
  {
   "cell_type": "code",
   "execution_count": 36,
   "metadata": {},
   "outputs": [
    {
     "name": "stdout",
     "output_type": "stream",
     "text": [
      "num of comps : 1 [0.23859247] \n",
      "sum = 0.238592473701069\n",
      "num of comps : 2 [0.23859247 0.10312342] \n",
      "sum = 0.34171589457256224\n",
      "num of comps : 3 [0.23859247 0.10312368 0.08909312] \n",
      "sum = 0.4308092719074673\n",
      "num of comps : 4 [0.23859247 0.10312361 0.08909314 0.08111757] \n",
      "sum = 0.5119267936738063\n",
      "num of comps : 5 [0.23859247 0.10312368 0.08909319 0.08111758 0.05813086] \n",
      "sum = 0.5700577904950256\n",
      "num of comps : 6 [0.23859247 0.10312368 0.08909319 0.08111758 0.05813086 0.05597593] \n",
      "sum = 0.6260337207515526\n",
      "num of comps : 7 [0.23859247 0.10312368 0.08909319 0.08111758 0.05813086 0.05597593\n",
      " 0.05464782] \n",
      "sum = 0.6806815441433149\n",
      "num of comps : 8 [0.23859247 0.10312368 0.08909319 0.08111758 0.05813086 0.05597593\n",
      " 0.05464782 0.05243612] \n",
      "sum = 0.7331176647919135\n",
      "num of comps : 9 [0.23859247 0.10312368 0.08909319 0.08111758 0.05813086 0.05597593\n",
      " 0.05464782 0.05243612 0.05119162] \n",
      "sum = 0.7843092848859797\n",
      "num of comps : 10 [0.23859247 0.10312368 0.08909319 0.08111758 0.05813086 0.05597593\n",
      " 0.05464782 0.05243612 0.05119162 0.04893945] \n",
      "sum = 0.8332487359259779\n"
     ]
    }
   ],
   "source": [
    "# 1-2. PCA\n",
    "from sklearn.decomposition import PCA\n",
    "\n",
    "pca_dict = dict()\n",
    "for i in range(1, 11):\n",
    "    pca = PCA(n_components = i)\n",
    "    principalComponents = pca.fit_transform(X_scaled)\n",
    "    cols = [str('PC_{}'.format(k)) for k in range(1, i+1)]\n",
    "    principalDf = pd.DataFrame(data = principalComponents, columns = cols)\n",
    "    pca_dict['N_Comp={}'.format(i)] = principalDf\n",
    "    print('num of comps :', i, pca.explained_variance_ratio_, '\\nsum =', np.sum(pca.explained_variance_ratio_))"
   ]
  },
  {
   "cell_type": "code",
   "execution_count": 37,
   "metadata": {},
   "outputs": [
    {
     "data": {
      "text/html": [
       "<div>\n",
       "<style scoped>\n",
       "    .dataframe tbody tr th:only-of-type {\n",
       "        vertical-align: middle;\n",
       "    }\n",
       "\n",
       "    .dataframe tbody tr th {\n",
       "        vertical-align: top;\n",
       "    }\n",
       "\n",
       "    .dataframe thead th {\n",
       "        text-align: right;\n",
       "    }\n",
       "</style>\n",
       "<table border=\"1\" class=\"dataframe\">\n",
       "  <thead>\n",
       "    <tr style=\"text-align: right;\">\n",
       "      <th></th>\n",
       "      <th>PC_1</th>\n",
       "      <th>PC_2</th>\n",
       "      <th>PC_3</th>\n",
       "      <th>PC_4</th>\n",
       "      <th>PC_5</th>\n",
       "      <th>PC_6</th>\n",
       "      <th>PC_7</th>\n",
       "      <th>PC_8</th>\n",
       "      <th>PC_9</th>\n",
       "      <th>PC_10</th>\n",
       "    </tr>\n",
       "  </thead>\n",
       "  <tbody>\n",
       "    <tr>\n",
       "      <th>0</th>\n",
       "      <td>-0.155031</td>\n",
       "      <td>-1.031716</td>\n",
       "      <td>-2.079595</td>\n",
       "      <td>-1.677684</td>\n",
       "      <td>3.589024</td>\n",
       "      <td>2.021993</td>\n",
       "      <td>2.164106</td>\n",
       "      <td>1.011512</td>\n",
       "      <td>0.545634</td>\n",
       "      <td>-0.119892</td>\n",
       "    </tr>\n",
       "    <tr>\n",
       "      <th>1</th>\n",
       "      <td>-0.823693</td>\n",
       "      <td>-1.452688</td>\n",
       "      <td>1.129292</td>\n",
       "      <td>-0.361486</td>\n",
       "      <td>-0.861420</td>\n",
       "      <td>0.269196</td>\n",
       "      <td>1.322357</td>\n",
       "      <td>0.513650</td>\n",
       "      <td>-0.123192</td>\n",
       "      <td>0.013337</td>\n",
       "    </tr>\n",
       "    <tr>\n",
       "      <th>2</th>\n",
       "      <td>-0.637941</td>\n",
       "      <td>-0.794500</td>\n",
       "      <td>-1.887414</td>\n",
       "      <td>0.120757</td>\n",
       "      <td>2.247786</td>\n",
       "      <td>1.365552</td>\n",
       "      <td>-0.474068</td>\n",
       "      <td>0.744245</td>\n",
       "      <td>-0.425616</td>\n",
       "      <td>-0.980444</td>\n",
       "    </tr>\n",
       "    <tr>\n",
       "      <th>3</th>\n",
       "      <td>-1.000310</td>\n",
       "      <td>-2.211183</td>\n",
       "      <td>2.941894</td>\n",
       "      <td>-0.938994</td>\n",
       "      <td>0.251587</td>\n",
       "      <td>-1.099138</td>\n",
       "      <td>0.782509</td>\n",
       "      <td>0.406511</td>\n",
       "      <td>0.086661</td>\n",
       "      <td>0.938123</td>\n",
       "    </tr>\n",
       "    <tr>\n",
       "      <th>4</th>\n",
       "      <td>-0.800124</td>\n",
       "      <td>-1.339889</td>\n",
       "      <td>1.190648</td>\n",
       "      <td>-1.215036</td>\n",
       "      <td>-1.714780</td>\n",
       "      <td>0.007081</td>\n",
       "      <td>0.155274</td>\n",
       "      <td>-0.557530</td>\n",
       "      <td>0.964705</td>\n",
       "      <td>0.586715</td>\n",
       "    </tr>\n",
       "  </tbody>\n",
       "</table>\n",
       "</div>"
      ],
      "text/plain": [
       "       PC_1      PC_2      PC_3      PC_4      PC_5      PC_6      PC_7  \\\n",
       "0 -0.155031 -1.031716 -2.079595 -1.677684  3.589024  2.021993  2.164106   \n",
       "1 -0.823693 -1.452688  1.129292 -0.361486 -0.861420  0.269196  1.322357   \n",
       "2 -0.637941 -0.794500 -1.887414  0.120757  2.247786  1.365552 -0.474068   \n",
       "3 -1.000310 -2.211183  2.941894 -0.938994  0.251587 -1.099138  0.782509   \n",
       "4 -0.800124 -1.339889  1.190648 -1.215036 -1.714780  0.007081  0.155274   \n",
       "\n",
       "       PC_8      PC_9     PC_10  \n",
       "0  1.011512  0.545634 -0.119892  \n",
       "1  0.513650 -0.123192  0.013337  \n",
       "2  0.744245 -0.425616 -0.980444  \n",
       "3  0.406511  0.086661  0.938123  \n",
       "4 -0.557530  0.964705  0.586715  "
      ]
     },
     "execution_count": 37,
     "metadata": {},
     "output_type": "execute_result"
    }
   ],
   "source": [
    "pca10 = PCA(n_components=10)\n",
    "pca10_arr = pca10.fit_transform(X_scaled)\n",
    "pca10_df = pd.DataFrame(pca10_arr, columns = [str('PC_{}'.format(k)) for k in range(1, 11)])\n",
    "pca10_df.head()"
   ]
  },
  {
   "cell_type": "code",
   "execution_count": 40,
   "metadata": {},
   "outputs": [
    {
     "data": {
      "text/html": [
       "<div>\n",
       "<style scoped>\n",
       "    .dataframe tbody tr th:only-of-type {\n",
       "        vertical-align: middle;\n",
       "    }\n",
       "\n",
       "    .dataframe tbody tr th {\n",
       "        vertical-align: top;\n",
       "    }\n",
       "\n",
       "    .dataframe thead th {\n",
       "        text-align: right;\n",
       "    }\n",
       "</style>\n",
       "<table border=\"1\" class=\"dataframe\">\n",
       "  <thead>\n",
       "    <tr style=\"text-align: right;\">\n",
       "      <th></th>\n",
       "      <th>PC_1</th>\n",
       "      <th>PC_2</th>\n",
       "      <th>PC_3</th>\n",
       "      <th>PC_4</th>\n",
       "      <th>PC_5</th>\n",
       "      <th>PC_6</th>\n",
       "      <th>PC_7</th>\n",
       "      <th>PC_8</th>\n",
       "      <th>PC_9</th>\n",
       "      <th>PC_10</th>\n",
       "      <th>row_id</th>\n",
       "      <th>target</th>\n",
       "    </tr>\n",
       "  </thead>\n",
       "  <tbody>\n",
       "    <tr>\n",
       "      <th>0</th>\n",
       "      <td>-0.155031</td>\n",
       "      <td>-1.031716</td>\n",
       "      <td>-2.079595</td>\n",
       "      <td>-1.677684</td>\n",
       "      <td>3.589024</td>\n",
       "      <td>2.021993</td>\n",
       "      <td>2.164106</td>\n",
       "      <td>1.011512</td>\n",
       "      <td>0.545634</td>\n",
       "      <td>-0.119892</td>\n",
       "      <td>0-5</td>\n",
       "      <td>0.004136</td>\n",
       "    </tr>\n",
       "    <tr>\n",
       "      <th>1</th>\n",
       "      <td>-0.823693</td>\n",
       "      <td>-1.452688</td>\n",
       "      <td>1.129292</td>\n",
       "      <td>-0.361486</td>\n",
       "      <td>-0.861420</td>\n",
       "      <td>0.269196</td>\n",
       "      <td>1.322357</td>\n",
       "      <td>0.513650</td>\n",
       "      <td>-0.123192</td>\n",
       "      <td>0.013337</td>\n",
       "      <td>0-11</td>\n",
       "      <td>0.001445</td>\n",
       "    </tr>\n",
       "    <tr>\n",
       "      <th>2</th>\n",
       "      <td>-0.637941</td>\n",
       "      <td>-0.794500</td>\n",
       "      <td>-1.887414</td>\n",
       "      <td>0.120757</td>\n",
       "      <td>2.247786</td>\n",
       "      <td>1.365552</td>\n",
       "      <td>-0.474068</td>\n",
       "      <td>0.744245</td>\n",
       "      <td>-0.425616</td>\n",
       "      <td>-0.980444</td>\n",
       "      <td>0-16</td>\n",
       "      <td>0.002168</td>\n",
       "    </tr>\n",
       "    <tr>\n",
       "      <th>3</th>\n",
       "      <td>-1.000310</td>\n",
       "      <td>-2.211183</td>\n",
       "      <td>2.941894</td>\n",
       "      <td>-0.938994</td>\n",
       "      <td>0.251587</td>\n",
       "      <td>-1.099138</td>\n",
       "      <td>0.782509</td>\n",
       "      <td>0.406511</td>\n",
       "      <td>0.086661</td>\n",
       "      <td>0.938123</td>\n",
       "      <td>0-31</td>\n",
       "      <td>0.002195</td>\n",
       "    </tr>\n",
       "    <tr>\n",
       "      <th>4</th>\n",
       "      <td>-0.800124</td>\n",
       "      <td>-1.339889</td>\n",
       "      <td>1.190648</td>\n",
       "      <td>-1.215036</td>\n",
       "      <td>-1.714780</td>\n",
       "      <td>0.007081</td>\n",
       "      <td>0.155274</td>\n",
       "      <td>-0.557530</td>\n",
       "      <td>0.964705</td>\n",
       "      <td>0.586715</td>\n",
       "      <td>0-62</td>\n",
       "      <td>0.001747</td>\n",
       "    </tr>\n",
       "  </tbody>\n",
       "</table>\n",
       "</div>"
      ],
      "text/plain": [
       "       PC_1      PC_2      PC_3      PC_4      PC_5      PC_6      PC_7  \\\n",
       "0 -0.155031 -1.031716 -2.079595 -1.677684  3.589024  2.021993  2.164106   \n",
       "1 -0.823693 -1.452688  1.129292 -0.361486 -0.861420  0.269196  1.322357   \n",
       "2 -0.637941 -0.794500 -1.887414  0.120757  2.247786  1.365552 -0.474068   \n",
       "3 -1.000310 -2.211183  2.941894 -0.938994  0.251587 -1.099138  0.782509   \n",
       "4 -0.800124 -1.339889  1.190648 -1.215036 -1.714780  0.007081  0.155274   \n",
       "\n",
       "       PC_8      PC_9     PC_10 row_id    target  \n",
       "0  1.011512  0.545634 -0.119892    0-5  0.004136  \n",
       "1  0.513650 -0.123192  0.013337   0-11  0.001445  \n",
       "2  0.744245 -0.425616 -0.980444   0-16  0.002168  \n",
       "3  0.406511  0.086661  0.938123   0-31  0.002195  \n",
       "4 -0.557530  0.964705  0.586715   0-62  0.001747  "
      ]
     },
     "execution_count": 40,
     "metadata": {},
     "output_type": "execute_result"
    }
   ],
   "source": [
    "pca_df = pd.concat([pca10_df, drop_ol_df[['row_id','target']]], axis=1)\n",
    "pca_df.head()"
   ]
  },
  {
   "cell_type": "markdown",
   "metadata": {},
   "source": [
    "#### 1. Outliers Checking"
   ]
  },
  {
   "cell_type": "code",
   "execution_count": null,
   "metadata": {},
   "outputs": [],
   "source": []
  }
 ],
 "metadata": {
  "kernelspec": {
   "display_name": "Python 3",
   "language": "python",
   "name": "python3"
  },
  "language_info": {
   "codemirror_mode": {
    "name": "ipython",
    "version": 3
   },
   "file_extension": ".py",
   "mimetype": "text/x-python",
   "name": "python",
   "nbconvert_exporter": "python",
   "pygments_lexer": "ipython3",
   "version": "3.7.3"
  }
 },
 "nbformat": 4,
 "nbformat_minor": 2
}
